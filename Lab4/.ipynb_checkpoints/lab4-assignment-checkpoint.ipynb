{
 "cells": [
  {
   "cell_type": "markdown",
   "metadata": {},
   "source": [
    "# Lab Assignment #4 \n",
    "## Network Intrusion Detection Dataset Exploration\n",
    "\n",
    "The Knowledge Discovery and Data Mining Special Interest Group (SIGKDD) from the Association of Computing Machinery (ACM) holds the KDD Cup every year, posing a different challenge to participants. In 1999, the topic was “computer network intrusion detection”, in which the task was to “learn a predictive model capable of distinguishing between bad connections, called intrusions or **attacks**, and good **normal** connections in a computer network.”\n",
    "\n",
    "The KDD dataset was used for this competition. "
   ]
  },
  {
   "cell_type": "code",
   "execution_count": 1,
   "metadata": {},
   "outputs": [],
   "source": [
    "import os\n",
    "from collections import defaultdict\n",
    "import pandas as pd\n",
    "import numpy as np\n",
    "import matplotlib.pyplot as plt\n",
    "%matplotlib inline\n",
    "\n",
    "dataset_root = 'kdd-dataset'\n",
    "train_file = os.path.join(dataset_root, 'KDDTrain+.txt')\n",
    "test_file = os.path.join(dataset_root, 'KDDTest+.txt')"
   ]
  },
  {
   "cell_type": "code",
   "execution_count": 2,
   "metadata": {},
   "outputs": [],
   "source": [
    "# Original KDD dataset feature names obtained from \n",
    "# http://kdd.ics.uci.edu/databases/kddcup99/kddcup.names\n",
    "# http://kdd.ics.uci.edu/databases/kddcup99/kddcup99.html\n",
    "\n",
    "header_names = ['duration', 'protocol_type', 'service', 'flag', 'src_bytes', 'dst_bytes', 'land', 'wrong_fragment', 'urgent', 'hot', 'num_failed_logins', 'logged_in', 'num_compromised', 'root_shell', 'su_attempted', 'num_root', 'num_file_creations', 'num_shells', 'num_access_files', 'num_outbound_cmds', 'is_host_login', 'is_guest_login', 'count', 'srv_count', 'serror_rate', 'srv_serror_rate', 'rerror_rate', 'srv_rerror_rate', 'same_srv_rate', 'diff_srv_rate', 'srv_diff_host_rate', 'dst_host_count', 'dst_host_srv_count', 'dst_host_same_srv_rate', 'dst_host_diff_srv_rate', 'dst_host_same_src_port_rate', 'dst_host_srv_diff_host_rate', 'dst_host_serror_rate', 'dst_host_srv_serror_rate', 'dst_host_rerror_rate', 'dst_host_srv_rerror_rate', 'attack_type', 'success_pred']"
   ]
  },
  {
   "cell_type": "markdown",
   "metadata": {},
   "source": [
    "The `attack_type` (2nd from the last column) has 22 different attacks and `normal` connection target. The `kdd-dataset/training_attack_types.txt` maps each of the 22 different attacks to one of the following four categories:\n",
    "1) Denial of Service Attack (DoS): is an attack in\n",
    "which the attacker makes some computing or memory\n",
    "resource too busy or too full to handle legitimate requests,\n",
    "or denies legitimate users access to a machine.\n",
    "2) User to Root Attack (U2R): is a class of exploit in\n",
    "which the attacker starts out with access to a normal\n",
    "user account on the system (perhaps gained by sniffing\n",
    "passwords, a dictionary attack, or social engineering)\n",
    "and is able to exploit some vulnerability to gain root\n",
    "access to the system.\n",
    "3) Remote to Local Attack (R2L): occurs when an\n",
    "attacker who has the ability to send packets to a\n",
    "machine over a network but who does not have an\n",
    "account on that machine exploits some vulnerability to\n",
    "gain local access as a user of that machine.\n",
    "4) Probing Attack (probe): is an attempt to gather information\n",
    "about a network of computers for the apparent purpose\n",
    "of circumventing its security controls.\n",
    "\n",
    "\n",
    "\n"
   ]
  },
  {
   "cell_type": "markdown",
   "metadata": {},
   "source": [
    "## Your data exporation tasks\n",
    "__Task 1: Generate train and test data sets__ (2 points)\n",
    "\n",
    "Load `train_file` to a pandas DataFrames, called `train_data`. \n",
    "Load `train_file` to a pandas DataFrames, called `test_data`.\n",
    "\n",
    "__Task 2: Create attack category__ (5 points)\n",
    "\n",
    "Add `attack_category` to the `train_data` and `test_data` as an additional target (column). \n",
    "\n",
    "Given the values of `attack_type`, assign the `attack_category` based on  `kdd-dataset/training_attack_types.txt` mapping. `attack_category` could be `dos`, `u2r`, `r2l`, `probe`, or `benign` if `attack_type` is `normal`. \n",
    "\n",
    "__Task 3: Data visualization__ (8 points total, 2 points for each graph)\n",
    "\n",
    "For the train_data:\n",
    "\n",
    "- Draw a graph that shows the total number of instances of each attack_type along with attack_type.\n",
    "\n",
    "- Draw a graph that shows the total number of instances of each attack_category along with attack_category.\n",
    "\n",
    "For the test_data, do the same:\n",
    "\n",
    "- Draw the graph of total number of instances of each attack_type versus attack_type.\n",
    "\n",
    "- Draw the graph of total number of instances of each attack_category versus attack_category.\n",
    "\n",
    "__Task 4: Data analysis__ (5 points)\n",
    "\n",
    "What do you observe from the graphs? Do the train and test sets have similar statistics?\n"
   ]
  },
  {
   "cell_type": "code",
   "execution_count": null,
   "metadata": {},
   "outputs": [],
   "source": []
  }
 ],
 "metadata": {
  "kernelspec": {
   "display_name": "Python 3",
   "language": "python",
   "name": "python3"
  },
  "language_info": {
   "codemirror_mode": {
    "name": "ipython",
    "version": 3
   },
   "file_extension": ".py",
   "mimetype": "text/x-python",
   "name": "python",
   "nbconvert_exporter": "python",
   "pygments_lexer": "ipython3",
   "version": "3.8.2"
  }
 },
 "nbformat": 4,
 "nbformat_minor": 4
}
