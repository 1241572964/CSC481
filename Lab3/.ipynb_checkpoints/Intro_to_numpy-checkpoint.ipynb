{
 "cells": [
  {
   "cell_type": "markdown",
   "id": "blocked-sword",
   "metadata": {},
   "source": [
    "# Lab: Introduction to NumPy\n",
    "NumPy is the fundamental library for scientific computing with Python. NumPy is centered around a powerful N-dimensional array object, and it also contains useful linear algebra, Fourier transform, and random number functions."
   ]
  },
  {
   "cell_type": "markdown",
   "id": "shared-saudi",
   "metadata": {},
   "source": [
    "## Creating arrays\n",
    "let's import numpy. Most people import it as `np`:"
   ]
  },
  {
   "cell_type": "code",
   "execution_count": null,
   "id": "legal-ontario",
   "metadata": {},
   "outputs": [],
   "source": []
  },
  {
   "cell_type": "markdown",
   "id": "prime-globe",
   "metadata": {},
   "source": [
    "The `zeros` function creates an array containing any number of zeros:"
   ]
  },
  {
   "cell_type": "code",
   "execution_count": null,
   "id": "duplicate-category",
   "metadata": {},
   "outputs": [],
   "source": []
  },
  {
   "cell_type": "markdown",
   "id": "minor-ballet",
   "metadata": {},
   "source": [
    "It's just as easy to create a 2D array (ie. a matrix) by providing a tuple with the desired number of rows and columns. For example, here's a 3x4 matrix:"
   ]
  },
  {
   "cell_type": "code",
   "execution_count": null,
   "id": "green-default",
   "metadata": {},
   "outputs": [],
   "source": []
  },
  {
   "cell_type": "markdown",
   "id": "reserved-times",
   "metadata": {},
   "source": [
    "## Some vocabulary\n",
    "* In NumPy, each dimension is called an **axis**.\n",
    "* The number of axes is called the **rank**.\n",
    "- For example, the above 3x4 matrix is an array of rank 2 (it is 2-dimensional).\n",
    "- The first axis has length 3, the second has length 4.\n",
    "* An array's list of axis lengths is called the **shape** of the array.\n",
    "- For example, the above matrix's shape is (3, 4).\n",
    "- The rank is equal to the shape's length.\n",
    "* The **size** of an array is the total number of elements, which is the product of all axis lengths (eg. 3*4=12)"
   ]
  },
  {
   "cell_type": "code",
   "execution_count": null,
   "id": "coated-stanley",
   "metadata": {},
   "outputs": [],
   "source": []
  },
  {
   "cell_type": "markdown",
   "id": "cooked-moldova",
   "metadata": {},
   "source": [
    "## N-dimensional arrays\n",
    "You can also create an N-dimensional array of arbitrary rank. For example, here's a 3D array (rank=3), with shape (2,3,4):"
   ]
  },
  {
   "cell_type": "code",
   "execution_count": null,
   "id": "renewable-shell",
   "metadata": {},
   "outputs": [],
   "source": []
  },
  {
   "cell_type": "markdown",
   "id": "modular-orange",
   "metadata": {},
   "source": [
    "NumPy arrays have the type ndarrays:"
   ]
  },
  {
   "cell_type": "code",
   "execution_count": null,
   "id": "mineral-price",
   "metadata": {},
   "outputs": [],
   "source": []
  },
  {
   "cell_type": "markdown",
   "id": "floating-compromise",
   "metadata": {},
   "source": [
    "Many other NumPy functions create ndarrays.\n",
    "\n",
    "Here's a 3x4 matrix full of ones:"
   ]
  },
  {
   "cell_type": "code",
   "execution_count": null,
   "id": "angry-appearance",
   "metadata": {},
   "outputs": [],
   "source": []
  },
  {
   "cell_type": "markdown",
   "id": "coastal-permission",
   "metadata": {},
   "source": [
    "You can create an array of the given shape initialized with the given value. \n",
    "\n",
    "Here's a 3x4 matrix full of π."
   ]
  },
  {
   "cell_type": "code",
   "execution_count": null,
   "id": "peaceful-region",
   "metadata": {},
   "outputs": [],
   "source": []
  },
  {
   "cell_type": "markdown",
   "id": "confidential-butter",
   "metadata": {},
   "source": [
    "You can create an uninitialized 2x3 array (its content is not predictable, as it is whatever is in memory at that point):"
   ]
  },
  {
   "cell_type": "code",
   "execution_count": null,
   "id": "strategic-legislation",
   "metadata": {},
   "outputs": [],
   "source": []
  },
  {
   "cell_type": "markdown",
   "id": "central-smith",
   "metadata": {},
   "source": [
    "You can initialize an ndarray using a regular python array. Just call the array function:"
   ]
  },
  {
   "cell_type": "code",
   "execution_count": null,
   "id": "addressed-burning",
   "metadata": {},
   "outputs": [],
   "source": []
  },
  {
   "cell_type": "markdown",
   "id": "central-square",
   "metadata": {},
   "source": [
    "You can create an ndarray using NumPy's range function, which returns evenly spaced values within a given interval: \n",
    "`arange(start, stop, step)`. The default start is 0, and the default step size is 1."
   ]
  },
  {
   "cell_type": "code",
   "execution_count": null,
   "id": "american-thunder",
   "metadata": {},
   "outputs": [],
   "source": []
  },
  {
   "cell_type": "code",
   "execution_count": null,
   "id": "broadband-problem",
   "metadata": {},
   "outputs": [],
   "source": []
  },
  {
   "cell_type": "markdown",
   "id": "integral-therapist",
   "metadata": {},
   "source": [
    "When working with floats, use the linspace function, which returns an array containing a specific number of points evenly distributed between two values. `linspace(start, stop, num_of_values)`"
   ]
  },
  {
   "cell_type": "code",
   "execution_count": null,
   "id": "expensive-compensation",
   "metadata": {},
   "outputs": [],
   "source": []
  },
  {
   "cell_type": "markdown",
   "id": "closed-grass",
   "metadata": {},
   "source": [
    "A number of functions are available in NumPy's random module to create ndarrays initialized with random values. For example, here is a 3x4 matrix initialized with random floats between 0 and 1 (uniform distribution):"
   ]
  },
  {
   "cell_type": "code",
   "execution_count": null,
   "id": "opposite-northwest",
   "metadata": {},
   "outputs": [],
   "source": []
  },
  {
   "cell_type": "markdown",
   "id": "earlier-jacob",
   "metadata": {},
   "source": [
    "Here's a 3x4 matrix containing random floats sampled from a univariate normal distribution (Gaussian distribution) of mean 0 and variance 1:"
   ]
  },
  {
   "cell_type": "markdown",
   "id": "annoying-program",
   "metadata": {},
   "source": [
    "NumPy's ndarrays are also efficient in part because all their elements must have the same type (usually numbers). You can check what the data type is by looking at the dtype attribute:"
   ]
  },
  {
   "cell_type": "code",
   "execution_count": null,
   "id": "western-blackberry",
   "metadata": {},
   "outputs": [],
   "source": []
  },
  {
   "cell_type": "code",
   "execution_count": null,
   "id": "necessary-passage",
   "metadata": {},
   "outputs": [],
   "source": []
  },
  {
   "cell_type": "markdown",
   "id": "figured-rings",
   "metadata": {},
   "source": [
    "## Reshaping an array"
   ]
  },
  {
   "cell_type": "markdown",
   "id": "western-tuning",
   "metadata": {},
   "source": [
    "Changing the shape of an ndarray is as simple as setting its `shape` attribute (in place). However, the array's size must remain the same."
   ]
  },
  {
   "cell_type": "code",
   "execution_count": null,
   "id": "hidden-timeline",
   "metadata": {},
   "outputs": [],
   "source": []
  },
  {
   "cell_type": "code",
   "execution_count": null,
   "id": "controlled-inflation",
   "metadata": {},
   "outputs": [],
   "source": []
  },
  {
   "cell_type": "markdown",
   "id": "authorized-effects",
   "metadata": {},
   "source": [
    "The `reshape` function gives a new shape to an array without changing its data. Note that it returns a new `ndarray` object pointing at the same data. This means that modifying one array will also modify the other."
   ]
  },
  {
   "cell_type": "code",
   "execution_count": null,
   "id": "polar-bristol",
   "metadata": {},
   "outputs": [],
   "source": []
  },
  {
   "cell_type": "code",
   "execution_count": null,
   "id": "rapid-dietary",
   "metadata": {},
   "outputs": [],
   "source": []
  },
  {
   "cell_type": "markdown",
   "id": "parliamentary-grant",
   "metadata": {},
   "source": [
    "Set element at row 1, col 2 to 999 (more about indexing below):"
   ]
  },
  {
   "cell_type": "code",
   "execution_count": null,
   "id": "dedicated-broad",
   "metadata": {},
   "outputs": [],
   "source": []
  },
  {
   "cell_type": "markdown",
   "id": "worse-gabriel",
   "metadata": {},
   "source": [
    "The corresponding element in g has been modified as well:"
   ]
  },
  {
   "cell_type": "code",
   "execution_count": null,
   "id": "german-hotel",
   "metadata": {},
   "outputs": [],
   "source": []
  },
  {
   "cell_type": "markdown",
   "id": "random-vitamin",
   "metadata": {},
   "source": [
    "Finally, the `ravel` function returns a new one-dimensional ndarray that also points to the same data:"
   ]
  },
  {
   "cell_type": "code",
   "execution_count": null,
   "id": "intensive-basketball",
   "metadata": {},
   "outputs": [],
   "source": []
  },
  {
   "cell_type": "markdown",
   "id": "demanding-dairy",
   "metadata": {},
   "source": [
    "## Mathematical and statistical functions\n",
    "Many mathematical and statistical functions are available for ndarrays. Here are a few useful functions.\n",
    "\n",
    "Note the `mean` function computes the mean of all elements in the ndarray, regardless of its shape."
   ]
  },
  {
   "cell_type": "code",
   "execution_count": null,
   "id": "hindu-tutorial",
   "metadata": {},
   "outputs": [],
   "source": []
  },
  {
   "cell_type": "code",
   "execution_count": null,
   "id": "likely-melissa",
   "metadata": {},
   "outputs": [],
   "source": []
  },
  {
   "cell_type": "markdown",
   "id": "chinese-computer",
   "metadata": {},
   "source": [
    "These functions accept an optional argument `axis` which lets you ask for the operation to be performed on elements along the given axis. For example:"
   ]
  },
  {
   "cell_type": "code",
   "execution_count": null,
   "id": "documented-serum",
   "metadata": {},
   "outputs": [],
   "source": []
  },
  {
   "cell_type": "code",
   "execution_count": 1,
   "id": "conceptual-bicycle",
   "metadata": {},
   "outputs": [],
   "source": [
    "# sum across columns"
   ]
  },
  {
   "cell_type": "code",
   "execution_count": 2,
   "id": "acute-mother",
   "metadata": {},
   "outputs": [],
   "source": [
    "# sum across rows"
   ]
  },
  {
   "cell_type": "code",
   "execution_count": 3,
   "id": "other-qualification",
   "metadata": {},
   "outputs": [],
   "source": [
    "# sum across columns and columns"
   ]
  },
  {
   "cell_type": "markdown",
   "id": "stylish-bookmark",
   "metadata": {},
   "source": [
    "## Array indexing\n",
    "**One-dimensional** NumPy arrays can be accessed with the basic slice syntax `i:j:k` where `i` is the starting index, `j` is the stopping index, and `k` is the step (`k!=0`). "
   ]
  },
  {
   "cell_type": "code",
   "execution_count": null,
   "id": "declared-reality",
   "metadata": {},
   "outputs": [],
   "source": []
  },
  {
   "cell_type": "code",
   "execution_count": null,
   "id": "precise-denver",
   "metadata": {},
   "outputs": [],
   "source": []
  },
  {
   "cell_type": "code",
   "execution_count": null,
   "id": "cheap-astrology",
   "metadata": {},
   "outputs": [],
   "source": []
  },
  {
   "cell_type": "code",
   "execution_count": null,
   "id": "patent-jesus",
   "metadata": {},
   "outputs": [],
   "source": []
  },
  {
   "cell_type": "markdown",
   "id": "organized-thirty",
   "metadata": {},
   "source": [
    "Negative starting index `i` and stopping index `j` are interpreted as `n + i` and `n + j` where `n` is the number of elements in the corresponding dimension."
   ]
  },
  {
   "cell_type": "code",
   "execution_count": null,
   "id": "prompt-clothing",
   "metadata": {},
   "outputs": [],
   "source": []
  },
  {
   "cell_type": "code",
   "execution_count": null,
   "id": "heard-honey",
   "metadata": {},
   "outputs": [],
   "source": []
  },
  {
   "cell_type": "markdown",
   "id": "regular-gender",
   "metadata": {},
   "source": [
    "If `i` is not given it defaults to 0 for k > 0 and n - 1 for k < 0"
   ]
  },
  {
   "cell_type": "code",
   "execution_count": null,
   "id": "saved-timer",
   "metadata": {},
   "outputs": [],
   "source": []
  },
  {
   "cell_type": "markdown",
   "id": "successful-carter",
   "metadata": {},
   "source": [
    "If `j` is not given it defaults to n for k > 0 and -n-1 for k < 0 . "
   ]
  },
  {
   "cell_type": "code",
   "execution_count": null,
   "id": "precious-orange",
   "metadata": {},
   "outputs": [],
   "source": []
  },
  {
   "cell_type": "code",
   "execution_count": null,
   "id": "formal-acoustic",
   "metadata": {},
   "outputs": [],
   "source": []
  },
  {
   "cell_type": "markdown",
   "id": "breeding-sampling",
   "metadata": {},
   "source": [
    "If `k` is not given it defaults to 1."
   ]
  },
  {
   "cell_type": "markdown",
   "id": "ordinary-examination",
   "metadata": {},
   "source": [
    " Negative step `k` makes stepping go towards smaller indices."
   ]
  },
  {
   "cell_type": "code",
   "execution_count": null,
   "id": "wooden-retirement",
   "metadata": {},
   "outputs": [],
   "source": []
  },
  {
   "cell_type": "code",
   "execution_count": null,
   "id": "micro-stability",
   "metadata": {},
   "outputs": [],
   "source": []
  },
  {
   "cell_type": "markdown",
   "id": "conceptual-serve",
   "metadata": {},
   "source": [
    "You can modify elements using the index:"
   ]
  },
  {
   "cell_type": "code",
   "execution_count": null,
   "id": "incomplete-federation",
   "metadata": {},
   "outputs": [],
   "source": []
  },
  {
   "cell_type": "markdown",
   "id": "atlantic-academy",
   "metadata": {},
   "source": [
    "You can also modify an ndarray slice:"
   ]
  },
  {
   "cell_type": "code",
   "execution_count": null,
   "id": "approved-raise",
   "metadata": {},
   "outputs": [],
   "source": []
  },
  {
   "cell_type": "markdown",
   "id": "generous-annex",
   "metadata": {},
   "source": [
    "**Multi-dimensional** NumPy arrays can be accessed in a similar way by providing an index or slice for each axis, separated by commas:"
   ]
  },
  {
   "cell_type": "code",
   "execution_count": null,
   "id": "linear-ordinary",
   "metadata": {},
   "outputs": [],
   "source": []
  },
  {
   "cell_type": "code",
   "execution_count": null,
   "id": "devoted-parks",
   "metadata": {},
   "outputs": [],
   "source": []
  },
  {
   "cell_type": "code",
   "execution_count": 4,
   "id": "express-retirement",
   "metadata": {},
   "outputs": [],
   "source": [
    "# row 1, all columns"
   ]
  },
  {
   "cell_type": "code",
   "execution_count": 5,
   "id": "smoking-architecture",
   "metadata": {},
   "outputs": [],
   "source": [
    "# all rows, column 1"
   ]
  },
  {
   "cell_type": "markdown",
   "id": "descending-interview",
   "metadata": {},
   "source": [
    "Everything works just as well with **higher dimensional arrays**"
   ]
  },
  {
   "cell_type": "code",
   "execution_count": 6,
   "id": "unnecessary-exercise",
   "metadata": {},
   "outputs": [],
   "source": [
    "# 4 small arrays/matrices, each array is 2x6\n"
   ]
  },
  {
   "cell_type": "code",
   "execution_count": 7,
   "id": "digital-typing",
   "metadata": {},
   "outputs": [],
   "source": [
    "# matrix 2, row 1, col 4"
   ]
  },
  {
   "cell_type": "code",
   "execution_count": 8,
   "id": "approximate-powder",
   "metadata": {},
   "outputs": [],
   "source": [
    "# matrix 2, all rows, col 3"
   ]
  },
  {
   "cell_type": "markdown",
   "id": "frank-manual",
   "metadata": {},
   "source": [
    "**Iterating** over multidimensional arrays is done with respect to the first axis."
   ]
  },
  {
   "cell_type": "code",
   "execution_count": 9,
   "id": "certain-southwest",
   "metadata": {},
   "outputs": [],
   "source": [
    "# Create a 3-D array (composed of two 3x4 matrices)\n"
   ]
  },
  {
   "cell_type": "code",
   "execution_count": null,
   "id": "statistical-waters",
   "metadata": {},
   "outputs": [],
   "source": []
  },
  {
   "cell_type": "markdown",
   "id": "assured-giant",
   "metadata": {},
   "source": [
    "If you want to **iterate on all elements** in the ndarray, simply iterate over the `flat` attribute:"
   ]
  },
  {
   "cell_type": "code",
   "execution_count": null,
   "id": "final-advocate",
   "metadata": {},
   "outputs": [],
   "source": []
  },
  {
   "cell_type": "markdown",
   "id": "cooperative-double",
   "metadata": {},
   "source": [
    "## Stacking arrays\n",
    "It is often useful to stack together different arrays. NumPy offers several functions to do just that. Let's start by creating a few arrays."
   ]
  },
  {
   "cell_type": "code",
   "execution_count": 10,
   "id": "convinced-weekend",
   "metadata": {},
   "outputs": [
    {
     "ename": "NameError",
     "evalue": "name 'np' is not defined",
     "output_type": "error",
     "traceback": [
      "\u001b[0;31m---------------------------------------------------------------------------\u001b[0m",
      "\u001b[0;31mNameError\u001b[0m                                 Traceback (most recent call last)",
      "\u001b[0;32m<ipython-input-10-d80ddaa95aac>\u001b[0m in \u001b[0;36m<module>\u001b[0;34m\u001b[0m\n\u001b[0;32m----> 1\u001b[0;31m \u001b[0mq1\u001b[0m \u001b[0;34m=\u001b[0m \u001b[0mnp\u001b[0m\u001b[0;34m.\u001b[0m\u001b[0mfull\u001b[0m\u001b[0;34m(\u001b[0m\u001b[0;34m(\u001b[0m\u001b[0;36m2\u001b[0m\u001b[0;34m,\u001b[0m\u001b[0;36m4\u001b[0m\u001b[0;34m)\u001b[0m\u001b[0;34m,\u001b[0m \u001b[0;36m1\u001b[0m\u001b[0;34m)\u001b[0m\u001b[0;34m\u001b[0m\u001b[0;34m\u001b[0m\u001b[0m\n\u001b[0m\u001b[1;32m      2\u001b[0m \u001b[0mq1\u001b[0m\u001b[0;34m\u001b[0m\u001b[0;34m\u001b[0m\u001b[0m\n",
      "\u001b[0;31mNameError\u001b[0m: name 'np' is not defined"
     ]
    }
   ],
   "source": [
    "q1 = np.full((2,4), 1)\n",
    "q1"
   ]
  },
  {
   "cell_type": "code",
   "execution_count": null,
   "id": "african-huntington",
   "metadata": {},
   "outputs": [],
   "source": [
    "q2 = np.full((4,4), 2)\n",
    "q2"
   ]
  },
  {
   "cell_type": "code",
   "execution_count": null,
   "id": "modified-console",
   "metadata": {},
   "outputs": [],
   "source": [
    "q3 = np.full((2,4), 3)\n",
    "q3"
   ]
  },
  {
   "cell_type": "markdown",
   "id": "ceramic-thomas",
   "metadata": {},
   "source": [
    "You can stack them vertically using `vstack`:"
   ]
  },
  {
   "cell_type": "code",
   "execution_count": null,
   "id": "blank-bridge",
   "metadata": {},
   "outputs": [],
   "source": []
  },
  {
   "cell_type": "code",
   "execution_count": null,
   "id": "nutritional-bunny",
   "metadata": {},
   "outputs": [],
   "source": []
  },
  {
   "cell_type": "markdown",
   "id": "accredited-strip",
   "metadata": {},
   "source": [
    "You can also stack arrays horizontally using `hstack`:"
   ]
  },
  {
   "cell_type": "code",
   "execution_count": null,
   "id": "consolidated-austria",
   "metadata": {},
   "outputs": [],
   "source": []
  },
  {
   "cell_type": "code",
   "execution_count": null,
   "id": "competent-happening",
   "metadata": {},
   "outputs": [],
   "source": [
    "q5.shape"
   ]
  },
  {
   "cell_type": "code",
   "execution_count": null,
   "id": "rapid-station",
   "metadata": {},
   "outputs": [],
   "source": [
    "# this does not work because q1 has 2 rows, but q2 has 4 rows"
   ]
  },
  {
   "cell_type": "markdown",
   "id": "solid-setup",
   "metadata": {},
   "source": [
    "The `stack` function stacks arrays along a new axis. All arrays have to have the same shape."
   ]
  },
  {
   "cell_type": "code",
   "execution_count": null,
   "id": "correct-scientist",
   "metadata": {},
   "outputs": [],
   "source": []
  },
  {
   "cell_type": "code",
   "execution_count": null,
   "id": "incorrect-technology",
   "metadata": {},
   "outputs": [],
   "source": []
  },
  {
   "cell_type": "markdown",
   "id": "european-marketplace",
   "metadata": {},
   "source": [
    "## Splitting arrays\n",
    "Splitting is the opposite of stacking. For example, let's use the `vsplit` function to split a matrix vertically.\n",
    "\n",
    "First let's create a 6x4 matrix:"
   ]
  },
  {
   "cell_type": "code",
   "execution_count": null,
   "id": "defensive-accent",
   "metadata": {},
   "outputs": [],
   "source": [
    "r = np.arange(24).reshape(6,4)\n",
    "r"
   ]
  },
  {
   "cell_type": "markdown",
   "id": "twenty-pixel",
   "metadata": {},
   "source": [
    "Now let's split it in three equal parts, vertically(row-wise) using `vsplit`:"
   ]
  },
  {
   "cell_type": "code",
   "execution_count": null,
   "id": "alike-renaissance",
   "metadata": {},
   "outputs": [],
   "source": []
  },
  {
   "cell_type": "code",
   "execution_count": null,
   "id": "powered-myrtle",
   "metadata": {},
   "outputs": [],
   "source": []
  },
  {
   "cell_type": "code",
   "execution_count": null,
   "id": "extraordinary-modeling",
   "metadata": {},
   "outputs": [],
   "source": []
  },
  {
   "cell_type": "markdown",
   "id": "sporting-worker",
   "metadata": {},
   "source": [
    "Now let's split it in two equal parts, horizontally (column-wise) using `hsplit`:"
   ]
  },
  {
   "cell_type": "code",
   "execution_count": null,
   "id": "thermal-afghanistan",
   "metadata": {},
   "outputs": [],
   "source": []
  },
  {
   "cell_type": "code",
   "execution_count": null,
   "id": "built-notification",
   "metadata": {},
   "outputs": [],
   "source": []
  },
  {
   "cell_type": "code",
   "execution_count": null,
   "id": "retained-eugene",
   "metadata": {},
   "outputs": [],
   "source": []
  },
  {
   "cell_type": "markdown",
   "id": "beginning-architect",
   "metadata": {},
   "source": [
    "There is also a split function which splits an array along any given axis. Calling `vsplit` is equivalent to calling `split` with `axis=0`. There is also an `hsplit` function, equivalent to calling `split` with `axis=1`:"
   ]
  },
  {
   "cell_type": "markdown",
   "id": "historical-peoples",
   "metadata": {},
   "source": [
    "# What next?\n",
    "Now you know some fundamentals of NumPy, but there are many more options available. The best way to learn more is to experiment with NumPy, and go through the [NumPy Reference](https://numpy.org/doc/stable/reference/index.html) to find more functions and features you may be interested in."
   ]
  }
 ],
 "metadata": {
  "kernelspec": {
   "display_name": "Python 3",
   "language": "python",
   "name": "python3"
  },
  "language_info": {
   "codemirror_mode": {
    "name": "ipython",
    "version": 3
   },
   "file_extension": ".py",
   "mimetype": "text/x-python",
   "name": "python",
   "nbconvert_exporter": "python",
   "pygments_lexer": "ipython3",
   "version": "3.8.2"
  }
 },
 "nbformat": 4,
 "nbformat_minor": 5
}
