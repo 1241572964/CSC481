{
 "cells": [
  {
   "cell_type": "markdown",
   "id": "planned-professional",
   "metadata": {},
   "source": [
    "# Lab 3 assignment\n",
    "## SVM and Decision Tree for Phishing Websites Detection\n",
    "---\n",
    "## Data:\n",
    "- **lab3phishing.csv** contains information of phishing websites. There are 31 columns in the dataset, containing 30 features and 1 target. Column names of the dataset is given in the code cell below.\n",
    "- The target variable is “target”: its value is either `-1` or `1`. \n",
    "- All other columns are features. All the features having a binary value are generally denoting the absence or presence of respective attribute. Attributes with three possible values are generally representing the strength(low, medium, high).\n"
   ]
  },
  {
   "cell_type": "code",
   "execution_count": 1,
   "id": "objective-darwin",
   "metadata": {},
   "outputs": [
    {
     "data": {
      "text/plain": [
       "31"
      ]
     },
     "execution_count": 1,
     "metadata": {},
     "output_type": "execute_result"
    }
   ],
   "source": [
    "# Column names for the dataset\n",
    "col_names = [\"has_ip\", \"long_url\", \"short_service\", \"has_at\", \"double_slash_redirect\",\n",
    "           \"pref_suf\", \"has_sub_domain\", \"ssl_state\", \"long_domain\", \"favicon\", \"port\",\n",
    "           \"https_token\", \"req_url\", \"url_of_anchor\", \"tag_links\", \"SFH\", \n",
    "           \"submit_to_email\", \"abnormal_url\", \"redirect\", \"mouseover\", \"right_click\",\n",
    "           \"popup\", \"iframe\", \"domain_Age\", \"dns_record\", \"traffic\", \"page_rank\",\n",
    "           \"google_index\", \"links_to_page\", \"stats_report\", \"target\"]\n",
    "len(col_names)"
   ]
  },
  {
   "cell_type": "markdown",
   "id": "combined-russell",
   "metadata": {},
   "source": [
    "## Tasks:\n",
    "The objective is to identify whether a website is a Phishing website or not. Use 75% of the dataset for training and the remaining 25% for testing.\n",
    "- Task 1 (10 points): Build a decision tree classifier. Tune the parameters to get your best model in terms of prediction accuracy.\n",
    "- Task 2 (10 points): Build a SVM classifier. Tune the parameters to get your best model in terms of prediction accuracy.\n",
    "\n",
    "## Deadline:\n",
    "Submit your .ipynb by 23:59 pm (ET), Tuesday, Feb 16, 2021.\n"
   ]
  },
  {
   "cell_type": "code",
   "execution_count": null,
   "id": "romantic-diploma",
   "metadata": {},
   "outputs": [],
   "source": []
  }
 ],
 "metadata": {
  "kernelspec": {
   "display_name": "Python 3",
   "language": "python",
   "name": "python3"
  },
  "language_info": {
   "codemirror_mode": {
    "name": "ipython",
    "version": 3
   },
   "file_extension": ".py",
   "mimetype": "text/x-python",
   "name": "python",
   "nbconvert_exporter": "python",
   "pygments_lexer": "ipython3",
   "version": "3.8.2"
  }
 },
 "nbformat": 4,
 "nbformat_minor": 5
}
